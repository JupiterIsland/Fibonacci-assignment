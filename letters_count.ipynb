{
 "cells": [
  {
   "cell_type": "code",
   "execution_count": 7,
   "id": "41b6acfd",
   "metadata": {},
   "outputs": [
    {
     "name": "stdout",
     "output_type": "stream",
     "text": [
      "Enter a sentence: seni seviyorum\n",
      "{'s': 2, 'e': 2, 'n': 1, 'i': 2, ' ': 1, 'v': 1, 'y': 1, 'o': 1, 'r': 1, 'u': 1, 'm': 1}\n"
     ]
    }
   ],
   "source": [
    "sentence = input(\"Enter a sentence: \")\n",
    "sen_dict = {}\n",
    "for i in sentence:\n",
    "    if i not in sen_dict:\n",
    "        sen_dict[i] = 1\n",
    "    else:\n",
    "        sen_dict[i] += 1\n",
    "        \n",
    "print(sen_dict)"
   ]
  },
  {
   "cell_type": "code",
   "execution_count": null,
   "id": "bd4d3d67",
   "metadata": {},
   "outputs": [],
   "source": []
  },
  {
   "cell_type": "code",
   "execution_count": null,
   "id": "375d00de",
   "metadata": {},
   "outputs": [],
   "source": []
  }
 ],
 "metadata": {
  "kernelspec": {
   "display_name": "Python 3",
   "language": "python",
   "name": "python3"
  },
  "language_info": {
   "codemirror_mode": {
    "name": "ipython",
    "version": 3
   },
   "file_extension": ".py",
   "mimetype": "text/x-python",
   "name": "python",
   "nbconvert_exporter": "python",
   "pygments_lexer": "ipython3",
   "version": "3.8.8"
  }
 },
 "nbformat": 4,
 "nbformat_minor": 5
}
