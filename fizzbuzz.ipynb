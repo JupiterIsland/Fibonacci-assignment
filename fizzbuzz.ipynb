{
 "cells": [
  {
   "cell_type": "code",
   "execution_count": 32,
   "id": "fc7f83e2",
   "metadata": {},
   "outputs": [
    {
     "name": "stdout",
     "output_type": "stream",
     "text": [
      "Fizz numbers: [3, 6, 9, 12, 15, 18, 21, 24, 27, 30, 33, 36, 39, 42, 45, 48, 51, 54, 57, 60, 63, 66, 69, 72, 75, 78, 81, 84, 87, 90, 93, 96, 99]\n",
      "Buzz numbers: [5, 10, 15, 20, 25, 30, 35, 40, 45, 50, 55, 60, 65, 70, 75, 80, 85, 90, 95, 100]\n",
      "Fizz numbers: [15, 30, 45, 60, 75, 90]\n"
     ]
    }
   ],
   "source": [
    "numbers= list(range(1, 101))\n",
    "fizz=[]\n",
    "buzz=[]\n",
    "fizzbuzz=[]\n",
    "for i in numbers:\n",
    "    if i % 3 == 0:\n",
    "        fizz.append(i)      \n",
    "for i in numbers:        \n",
    "    if i % 5 == 0:\n",
    "        buzz.append(i)      \n",
    "for i in numbers:        \n",
    "    if i % 15 == 0:\n",
    "        fizzbuzz.append(i)\n",
    "            \n",
    "print(\"Fizz numbers: {}\".format(fizz))\n",
    "print(\"Buzz numbers: {}\".format(buzz))\n",
    "print(\"Fizz numbers: {}\".format(fizzbuzz))"
   ]
  },
  {
   "cell_type": "code",
   "execution_count": null,
   "id": "a9ea4aea",
   "metadata": {},
   "outputs": [],
   "source": []
  },
  {
   "cell_type": "code",
   "execution_count": null,
   "id": "860ef004",
   "metadata": {},
   "outputs": [],
   "source": []
  }
 ],
 "metadata": {
  "kernelspec": {
   "display_name": "Python 3",
   "language": "python",
   "name": "python3"
  },
  "language_info": {
   "codemirror_mode": {
    "name": "ipython",
    "version": 3
   },
   "file_extension": ".py",
   "mimetype": "text/x-python",
   "name": "python",
   "nbconvert_exporter": "python",
   "pygments_lexer": "ipython3",
   "version": "3.8.8"
  }
 },
 "nbformat": 4,
 "nbformat_minor": 5
}
