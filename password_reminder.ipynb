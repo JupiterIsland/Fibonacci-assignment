{
 "cells": [
  {
   "cell_type": "code",
   "execution_count": 49,
   "id": "752b6c42",
   "metadata": {},
   "outputs": [
    {
     "name": "stdout",
     "output_type": "stream",
     "text": [
      "Enter your name: sevde  \n",
      "Hello, Sevde! See you later.\n"
     ]
    }
   ],
   "source": [
    "my_name = \"Rabia\"\n",
    "name = input(\"Enter your name: \").title().strip()\n",
    "if name == my_name:\n",
    "    print(f\"Hello, {name}! The password is : W@12\")\n",
    "else:\n",
    "    print(f\"Hello, {name}! See you later.\")"
   ]
  },
  {
   "cell_type": "code",
   "execution_count": null,
   "id": "48320de3",
   "metadata": {},
   "outputs": [],
   "source": []
  },
  {
   "cell_type": "code",
   "execution_count": null,
   "id": "2364b565",
   "metadata": {},
   "outputs": [],
   "source": []
  }
 ],
 "metadata": {
  "kernelspec": {
   "display_name": "Python 3",
   "language": "python",
   "name": "python3"
  },
  "language_info": {
   "codemirror_mode": {
    "name": "ipython",
    "version": 3
   },
   "file_extension": ".py",
   "mimetype": "text/x-python",
   "name": "python",
   "nbconvert_exporter": "python",
   "pygments_lexer": "ipython3",
   "version": "3.8.8"
  }
 },
 "nbformat": 4,
 "nbformat_minor": 5
}
